{
  "nbformat": 4,
  "nbformat_minor": 0,
  "metadata": {
    "colab": {
      "provenance": [],
      "include_colab_link": true
    },
    "kernelspec": {
      "name": "python3",
      "display_name": "Python 3"
    },
    "language_info": {
      "name": "python"
    }
  },
  "cells": [
    {
      "cell_type": "markdown",
      "metadata": {
        "id": "view-in-github",
        "colab_type": "text"
      },
      "source": [
        "<a href=\"https://colab.research.google.com/github/SantospemIT/python/blob/main/GRAFOS_reto1.ipynb\" target=\"_parent\"><img src=\"https://colab.research.google.com/assets/colab-badge.svg\" alt=\"Open In Colab\"/></a>"
      ]
    },
    {
      "cell_type": "code",
      "execution_count": null,
      "metadata": {
        "colab": {
          "base_uri": "https://localhost:8080/"
        },
        "id": "l7zdJ-ssJxe_",
        "outputId": "fdc1a13b-ef2d-462a-8a6c-86ba0d1d044c"
      },
      "outputs": [
        {
          "output_type": "stream",
          "name": "stdout",
          "text": [
            "D M\n",
            "D A B F M "
          ]
        }
      ],
      "source": [
        "grafo= {\n",
        "    'A': {'B': 5, 'C': 8, 'D': 9},\n",
        "    'B': {'A': 5, 'E': 15, 'F': 7},\n",
        "    'C': {'A': 8, 'G': 12, 'H': 10},\n",
        "    'D': {'A': 9, 'I': 11, 'J': 6},\n",
        "    'E': {'B': 15,'K': 9, 'L': 13},\n",
        "    'F': {'B': 7, 'M': 8, 'N': 6},\n",
        "    'G': {'C': 12, 'O': 10, 'P': 5},\n",
        "    'H': {'C': 10, 'Q': 11, 'R': 7},\n",
        "    'I': {'D': 11, 'S': 14, 'T': 8},\n",
        "    'J': {'D': 6, 'U': 9, 'V': 12},\n",
        "    'K': {'E': 9},\n",
        "    'L': {'E': 13},\n",
        "    'M': {'F': 8},\n",
        "    'N': {'F': 6},\n",
        "    'O': {'G': 10},\n",
        "    'P': {'G': 5},\n",
        "    'Q': {'H': 11},\n",
        "    'R': {'H': 7},\n",
        "    'S': {'I': 14},\n",
        "    'T': {'I': 8},\n",
        "    'U': {'J': 9},\n",
        "    'V': {'J': 12}\n",
        "}\n",
        "def dfs(grafo, inicio, destino, visitados=None, ruta=None):\n",
        "    if visitados is None:\n",
        "        visitados = set()\n",
        "    if ruta is None:\n",
        "        ruta = [inicio]\n",
        "\n",
        "    if inicio == destino:\n",
        "        return ruta\n",
        "\n",
        "    visitados.add(inicio)\n",
        "\n",
        "    for ciudad in grafo[inicio]:\n",
        "        if ciudad not in visitados:\n",
        "            nueva_ruta = list(ruta)\n",
        "            nueva_ruta.append(ciudad)\n",
        "            camino = dfs(grafo, ciudad, destino, visitados, nueva_ruta)\n",
        "            if camino:\n",
        "                return camino\n",
        "\n",
        "    return None\n",
        "\n",
        "ciudades=input().split()\n",
        "inicio= ciudades[0]\n",
        "fin= ciudades[1]\n",
        "ruta_mas_corta = dfs(grafo, inicio, fin)\n",
        "if ruta_mas_corta:\n",
        "    for i in ruta_mas_corta:\n",
        "        print(i, end=' ')\n",
        "else:\n",
        "    print('None')\n"
      ]
    }
  ]
}